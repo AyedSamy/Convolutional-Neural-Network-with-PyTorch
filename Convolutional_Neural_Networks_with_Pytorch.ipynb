{
  "nbformat": 4,
  "nbformat_minor": 0,
  "metadata": {
    "colab": {
      "name": "Convolutional Neural Networks with Pytorch",
      "provenance": [],
      "collapsed_sections": []
    },
    "kernelspec": {
      "name": "python3",
      "display_name": "Python 3"
    }
  },
  "cells": [
    {
      "cell_type": "markdown",
      "metadata": {
        "id": "ChLu9rlWlKY_"
      },
      "source": [
        "## Convolutional Neural Networks with PyTorch"
      ]
    },
    {
      "cell_type": "markdown",
      "metadata": {
        "id": "mEN6vTA6lfOF"
      },
      "source": [
        "This lab revolves around the creation of a convolutional neural network, to explore the principal techniques behind this interesting concept. To do so, we will create 2 generated datasets composed of 1 channel images (black and white images), to classify horizontal and vertical bars (some variation is introduced in the pixels of the images using a Bernoulli Distribution). The first one is a training dataset, gathering 10 000 images to train the neural network model (which has convolutional layers, max pooling, fully connected and linear layers), and a validation dataset with 1 000 images, to eventually test the accuracy of the trained model."
      ]
    },
    {
      "cell_type": "code",
      "metadata": {
        "id": "yc8PG3CzAItt"
      },
      "source": [
        "import torch\n",
        "import torch.nn as nn\n",
        "from torch.utils.data import Dataset, DataLoader\n",
        "from torch.distributions.bernoulli import Bernoulli\n",
        "\n",
        "import matplotlib.pyplot as plt\n",
        "import seaborn as sns"
      ],
      "execution_count": 3,
      "outputs": []
    },
    {
      "cell_type": "code",
      "metadata": {
        "id": "g6ZrMtaFDsAC"
      },
      "source": [
        "class CreateDataset(Dataset):\n",
        "  def __init__(self, N_images=100, offset=0, train = False):\n",
        "    if train == True:\n",
        "      torch.manual_seed(0)\n",
        "    N_images = (N_images // 2) * 2\n",
        "    images = torch.zeros((N_images,1,11,11), dtype=torch.float32)\n",
        "    self.y = torch.zeros(N_images, dtype=torch.long)\n",
        "\n",
        "    for i, image in enumerate(images):\n",
        "      if i < N_images / 2:\n",
        "        m = Bernoulli(torch.tensor([0.9]))\n",
        "        image[0][4:7,1:10] = m.sample(sample_shape=[3,9]).reshape((3,9))\n",
        "      else:\n",
        "        m = Bernoulli(torch.tensor([0.9]))\n",
        "        image[0][1:10,4:7] = m.sample(sample_shape=[9,3]).reshape((9,3))\n",
        "        self.y[i] = 1\n",
        "\n",
        "    self.x = images\n",
        "    del images\n",
        "\n",
        "  def __getitem__(self, index):\n",
        "    return self.x[index], self.y[index]\n",
        "\n",
        "  def __len__(self):\n",
        "    return len(self.x)\n"
      ],
      "execution_count": 4,
      "outputs": []
    },
    {
      "cell_type": "code",
      "metadata": {
        "id": "-7CIzDotDAiF"
      },
      "source": [
        "train_dataset = CreateDataset(N_images = 10000, train = True)"
      ],
      "execution_count": 5,
      "outputs": []
    },
    {
      "cell_type": "code",
      "metadata": {
        "id": "7PV5mKiaLKEN"
      },
      "source": [
        "validation_dataset = CreateDataset(N_images = 1000)"
      ],
      "execution_count": 6,
      "outputs": []
    },
    {
      "cell_type": "code",
      "metadata": {
        "colab": {
          "base_uri": "https://localhost:8080/"
        },
        "id": "AZMEAMohPr6_",
        "outputId": "0d88079e-8308-4426-af1e-cc39db8399f6"
      },
      "source": [
        "train_dataset[0]"
      ],
      "execution_count": 7,
      "outputs": [
        {
          "output_type": "execute_result",
          "data": {
            "text/plain": [
              "(tensor([[[0., 0., 0., 0., 0., 0., 0., 0., 0., 0., 0.],\n",
              "          [0., 0., 0., 0., 0., 0., 0., 0., 0., 0., 0.],\n",
              "          [0., 0., 0., 0., 0., 0., 0., 0., 0., 0., 0.],\n",
              "          [0., 0., 0., 0., 0., 0., 0., 0., 0., 0., 0.],\n",
              "          [0., 1., 1., 1., 1., 1., 1., 1., 1., 1., 0.],\n",
              "          [0., 1., 1., 1., 1., 1., 1., 1., 1., 1., 0.],\n",
              "          [0., 1., 1., 1., 0., 1., 1., 1., 1., 0., 0.],\n",
              "          [0., 0., 0., 0., 0., 0., 0., 0., 0., 0., 0.],\n",
              "          [0., 0., 0., 0., 0., 0., 0., 0., 0., 0., 0.],\n",
              "          [0., 0., 0., 0., 0., 0., 0., 0., 0., 0., 0.],\n",
              "          [0., 0., 0., 0., 0., 0., 0., 0., 0., 0., 0.]]]), tensor(0))"
            ]
          },
          "metadata": {
            "tags": []
          },
          "execution_count": 7
        }
      ]
    },
    {
      "cell_type": "code",
      "metadata": {
        "colab": {
          "base_uri": "https://localhost:8080/",
          "height": 281
        },
        "id": "2Letl5CrN1h7",
        "outputId": "cc137210-dca4-4252-d660-139b80e534d1"
      },
      "source": [
        "def show_data(dataset, sample):\n",
        "  plt.imshow(dataset[sample][0][0], cmap='gray')\n",
        "  plt.title(f\"Sample {sample + 1} : y = {str(dataset[sample][1].item())}\")\n",
        "  plt.show()\n",
        "\n",
        "show_data(train_dataset, 0)"
      ],
      "execution_count": 8,
      "outputs": [
        {
          "output_type": "display_data",
          "data": {
            "image/png": "[encoded data removed]",
            "text/plain": [
              "<Figure size 432x288 with 1 Axes>"
            ]
          },
          "metadata": {
            "tags": [],
            "needs_background": "light"
          }
        }
      ]
    },
    {
      "cell_type": "code",
      "metadata": {
        "id": "cwBCsGC6PD3r"
      },
      "source": [
        "class CNN(nn.Module):\n",
        "  def __init__(self):\n",
        "    super().__init__()\n",
        "    # first convolutional layers\n",
        "    self.conv1 = nn.Conv2d(in_channels=1, out_channels=2, kernel_size=2) #10,10\n",
        "    self.max1 = nn.MaxPool2d(kernel_size=2, stride=1) #9,9\n",
        "    # second convolutional layers\n",
        "    self.conv2 = nn.Conv2d(in_channels=2, out_channels=1, kernel_size=2) #8,8\n",
        "    self.max2 = nn.MaxPool2d(kernel_size=2, stride=1) # 7,7\n",
        "    # fully connected layer\n",
        "    self.fc1 = nn.Linear(1*7*7,2)\n",
        "\n",
        "  def forward(self, x):\n",
        "    z11 = self.conv1(x)\n",
        "    a11 = torch.relu(z11)\n",
        "    z12 = self.max1(a11)\n",
        "    z21 = self.conv2(z12)\n",
        "    a21 = torch.relu(z21)\n",
        "    z22 = self.max2(a21)\n",
        "    z = self.fc1(z22.reshape(z22.shape[0],-1))\n",
        "    return z\n",
        "\n",
        "  def forward_2(self, x):\n",
        "    z11 = self.conv1(x)\n",
        "    a11 = torch.relu(z11)\n",
        "    z12 = self.max1(a11)\n",
        "    z21 = self.conv2(z12)\n",
        "    a21 = torch.relu(z21)\n",
        "    z22 = self.max2(a21)\n",
        "    return z22"
      ],
      "execution_count": 9,
      "outputs": []
    },
    {
      "cell_type": "markdown",
      "metadata": {
        "id": "fuzBWCSaWuXO"
      },
      "source": [
        "### Define the Convolutional Neral Network Classifier , Criterion function, Optimizer and Train the  Model\n"
      ]
    },
    {
      "cell_type": "code",
      "metadata": {
        "id": "aPzUwH_B408i"
      },
      "source": [
        "model = CNN()"
      ],
      "execution_count": 53,
      "outputs": []
    },
    {
      "cell_type": "markdown",
      "metadata": {
        "id": "YlalcST-xHfu"
      },
      "source": [
        "Let's try the forward propagation on the first record of the training dataset:"
      ]
    },
    {
      "cell_type": "markdown",
      "metadata": {
        "id": "LFft3bANx3Iv"
      },
      "source": [
        "We see when we perform the full forward propagation that it gives us two linear outputs -> one for each category we want to classify (horizontal (0) and vertical (1) bars). The index of the greater value is the predicted category."
      ]
    },
    {
      "cell_type": "code",
      "metadata": {
        "colab": {
          "base_uri": "https://localhost:8080/"
        },
        "id": "B3KCTZcp5HeZ",
        "outputId": "1afd010e-bbcf-49eb-8bf5-081db4fbc509"
      },
      "source": [
        "model(train_dataset[0][0].reshape((1,1,11,11)))"
      ],
      "execution_count": 55,
      "outputs": [
        {
          "output_type": "execute_result",
          "data": {
            "text/plain": [
              "tensor([[-0.0425,  0.0314]], grad_fn=<AddmmBackward>)"
            ]
          },
          "metadata": {
            "tags": []
          },
          "execution_count": 55
        }
      ]
    },
    {
      "cell_type": "markdown",
      "metadata": {
        "id": "7Vp_uHlvy-fL"
      },
      "source": [
        "We created a forward_2 method to see what are the effects of the convolutional and max pooling layers on the images, intermediary steps before the data goes to the fully connected, linear layers"
      ]
    },
    {
      "cell_type": "code",
      "metadata": {
        "colab": {
          "base_uri": "https://localhost:8080/"
        },
        "id": "GLUvWXcB54fV",
        "outputId": "ffa6d6aa-b331-4212-ef2f-0f30851d2268"
      },
      "source": [
        "z0 = model.forward_2(train_dataset[0][0].reshape((1,1,11,11)))\n",
        "z0"
      ],
      "execution_count": 56,
      "outputs": [
        {
          "output_type": "execute_result",
          "data": {
            "text/plain": [
              "tensor([[[[0.1855, 0.1774, 0.1774, 0.1774, 0.1774, 0.1774, 0.1774],\n",
              "          [0.2011, 0.1774, 0.1774, 0.1774, 0.1774, 0.1774, 0.1774],\n",
              "          [0.2011, 0.1584, 0.1584, 0.1584, 0.1584, 0.1584, 0.1584],\n",
              "          [0.2110, 0.2236, 0.2743, 0.2743, 0.2617, 0.2110, 0.2110],\n",
              "          [0.2110, 0.2236, 0.2743, 0.2743, 0.2617, 0.2110, 0.2110],\n",
              "          [0.1891, 0.1891, 0.2216, 0.2317, 0.2317, 0.1891, 0.1958],\n",
              "          [0.1152, 0.1156, 0.1156, 0.1152, 0.1152, 0.1152, 0.1156]]]],\n",
              "       grad_fn=<MaxPool2DWithIndicesBackward>)"
            ]
          },
          "metadata": {
            "tags": []
          },
          "execution_count": 56
        }
      ]
    },
    {
      "cell_type": "markdown",
      "metadata": {
        "id": "baeRIfkXz6ax"
      },
      "source": [
        "We see the image shrinks during the process, operations with the kernels imply a reduction of its dimension after convolution and max pooling steps."
      ]
    },
    {
      "cell_type": "code",
      "metadata": {
        "colab": {
          "base_uri": "https://localhost:8080/",
          "height": 265
        },
        "id": "1F8UxzIw8gpZ",
        "outputId": "9d77c8e3-ffb8-4bb4-a764-54b614df437a"
      },
      "source": [
        "plt.imshow(z0.detach().numpy()[0][0], cmap=\"gray\")\n",
        "plt.show()"
      ],
      "execution_count": 57,
      "outputs": [
        {
          "output_type": "display_data",
          "data": {
            "image/png": "[encoded data removed]",
            "text/plain": [
              "<Figure size 432x288 with 1 Axes>"
            ]
          },
          "metadata": {
            "tags": [],
            "needs_background": "light"
          }
        }
      ]
    },
    {
      "cell_type": "code",
      "metadata": {
        "id": "DHWToxHu81CK"
      },
      "source": [
        "train_loader = DataLoader(dataset=train_dataset, batch_size=10)\n",
        "validation_loader = DataLoader(dataset=validation_dataset, batch_size=20)\n",
        "criterion = nn.CrossEntropyLoss()\n",
        "lr = 0.001\n",
        "optimizer = torch.optim.Adam(params = model.parameters(), lr = lr)\n",
        "epochs = 100"
      ],
      "execution_count": 58,
      "outputs": []
    },
    {
      "cell_type": "code",
      "metadata": {
        "colab": {
          "base_uri": "https://localhost:8080/"
        },
        "id": "jgU278THqwGt",
        "outputId": "b2315856-0e1c-4708-c07b-5b9acd58039b"
      },
      "source": [
        "model"
      ],
      "execution_count": 59,
      "outputs": [
        {
          "output_type": "execute_result",
          "data": {
            "text/plain": [
              "CNN(\n",
              "  (conv1): Conv2d(1, 2, kernel_size=(2, 2), stride=(1, 1))\n",
              "  (max1): MaxPool2d(kernel_size=2, stride=1, padding=0, dilation=1, ceil_mode=False)\n",
              "  (conv2): Conv2d(2, 1, kernel_size=(2, 2), stride=(1, 1))\n",
              "  (max2): MaxPool2d(kernel_size=2, stride=1, padding=0, dilation=1, ceil_mode=False)\n",
              "  (fc1): Linear(in_features=49, out_features=2, bias=True)\n",
              ")"
            ]
          },
          "metadata": {
            "tags": []
          },
          "execution_count": 59
        }
      ]
    },
    {
      "cell_type": "code",
      "metadata": {
        "id": "otK1Wo2YbC_O"
      },
      "source": [
        "cost_list = []\n",
        "accuracy_list = []\n",
        "\n",
        "for epoch in range(epochs):\n",
        "  cost = 0\n",
        "  for x, y in train_loader:\n",
        "    optimizer.zero_grad()\n",
        "    z = model(x)\n",
        "    loss = criterion(z, y)\n",
        "    loss.backward()\n",
        "    optimizer.step()\n",
        "    cost += loss.item()\n",
        "  cost_list.append(cost)\n",
        "\n",
        "  correct = 0\n",
        "  for x_test, y_test in validation_loader:\n",
        "    z = model(x_test)\n",
        "    _, yhat = torch.max(z, 1)\n",
        "    correct += (yhat == y_test).sum().item()\n",
        "  accuracy = correct / len(validation_dataset)\n",
        "  accuracy_list.append(accuracy)\n",
        "\n"
      ],
      "execution_count": 60,
      "outputs": []
    },
    {
      "cell_type": "code",
      "metadata": {
        "id": "rmzSLOLBiYUI",
        "colab": {
          "base_uri": "https://localhost:8080/",
          "height": 312
        },
        "outputId": "ccc52635-25f6-453e-8e34-0ba0d8332c64"
      },
      "source": [
        "fig, (ax1, ax2) = plt.subplots(nrows=1, ncols=2, figsize=(10, 4))\n",
        "color = 'tab:red'\n",
        "sns.lineplot(data=cost_list, ax = ax1, color = color)\n",
        "ax1.set_title(\"Training loss through 100 epochs\")\n",
        "ax1.set_ylabel('Accuracy', color=color)\n",
        "ax1.set_xlabel('Epoch', color=color)\n",
        "\n",
        "color = 'tab:blue'\n",
        "sns.lineplot(data=accuracy_list, ax = ax2, color=color)\n",
        "ax2.set_title(\"Validation Accuracy through 100 epochs\")\n",
        "ax2.set_ylabel('Accuracy', color=color)\n",
        "ax2.set_xlabel('Epoch', color=color)"
      ],
      "execution_count": 66,
      "outputs": [
        {
          "output_type": "execute_result",
          "data": {
            "text/plain": [
              "Text(0.5, 0, 'Epoch')"
            ]
          },
          "metadata": {
            "tags": []
          },
          "execution_count": 66
        },
        {
          "output_type": "display_data",
          "data": {
            "image/png": "[encoded data removed]",
            "text/plain": [
              "<Figure size 720x288 with 2 Axes>"
            ]
          },
          "metadata": {
            "tags": [],
            "needs_background": "light"
          }
        }
      ]
    },
    {
      "cell_type": "markdown",
      "metadata": {
        "id": "AAu_d4mI-Lbq"
      },
      "source": [
        "Let's see what the forward propagation gives now the model is trained:"
      ]
    },
    {
      "cell_type": "code",
      "metadata": {
        "colab": {
          "base_uri": "https://localhost:8080/"
        },
        "id": "j9_DkAEl2dZs",
        "outputId": "f10d7ad1-95c0-417e-dd72-5db822dd91fe"
      },
      "source": [
        "model(train_dataset[0][0].reshape((1,1,11,11)))"
      ],
      "execution_count": 67,
      "outputs": [
        {
          "output_type": "execute_result",
          "data": {
            "text/plain": [
              "tensor([[  3.8287, -28.6731]], grad_fn=<AddmmBackward>)"
            ]
          },
          "metadata": {
            "tags": []
          },
          "execution_count": 67
        }
      ]
    },
    {
      "cell_type": "markdown",
      "metadata": {
        "id": "5WYK7I30-W5a"
      },
      "source": [
        "The prediction is way clearer now, there's no doubt the first image of the training dataset is a horizontal bar!"
      ]
    },
    {
      "cell_type": "code",
      "metadata": {
        "colab": {
          "base_uri": "https://localhost:8080/"
        },
        "id": "8juvf1cl95w5",
        "outputId": "a55c7049-cde2-403a-c28a-fdf66841934d"
      },
      "source": [
        "z0 = model.forward_2(train_dataset[0][0].reshape((1,1,11,11)))\n",
        "z0"
      ],
      "execution_count": 75,
      "outputs": [
        {
          "output_type": "execute_result",
          "data": {
            "text/plain": [
              "tensor([[[[3.0375, 3.0107, 3.0107, 3.0107, 3.0107, 3.0107, 3.0107],\n",
              "          [6.2494, 6.2184, 6.2184, 6.2184, 6.2184, 6.2184, 6.2184],\n",
              "          [7.1095, 7.1363, 7.1631, 7.1631, 7.1363, 7.1095, 7.1095],\n",
              "          [7.1095, 7.1363, 7.1631, 7.1672, 7.1672, 7.1095, 7.1095],\n",
              "          [7.1095, 7.1095, 6.7899, 7.1672, 7.1672, 7.1095, 7.1095],\n",
              "          [4.0674, 4.0674, 3.6808, 4.0984, 4.0984, 4.0674, 4.0674],\n",
              "          [0.8884, 0.8884, 0.7484, 0.8884, 0.8884, 0.8884, 0.8884]]]],\n",
              "       grad_fn=<MaxPool2DWithIndicesBackward>)"
            ]
          },
          "metadata": {
            "tags": []
          },
          "execution_count": 75
        }
      ]
    },
    {
      "cell_type": "markdown",
      "metadata": {
        "id": "hcQxw142-2pV"
      },
      "source": [
        "We can show the image and it confirms the idea. All the white pixels stand for the higher values in the multidimensional tensor."
      ]
    },
    {
      "cell_type": "code",
      "metadata": {
        "colab": {
          "base_uri": "https://localhost:8080/",
          "height": 265
        },
        "id": "kMS4RtkZ-B9x",
        "outputId": "630b00a0-53a7-4ef0-be8c-b37e0b76d520"
      },
      "source": [
        "plt.imshow(z0.detach().numpy()[0][0], cmap=\"gray\")\n",
        "plt.show()"
      ],
      "execution_count": 69,
      "outputs": [
        {
          "output_type": "display_data",
          "data": {
            "image/png": "[encoded data removed]",
            "text/plain": [
              "<Figure size 432x288 with 1 Axes>"
            ]
          },
          "metadata": {
            "tags": [],
            "needs_background": "light"
          }
        }
      ]
    },
    {
      "cell_type": "code",
      "metadata": {
        "id": "bmzOlSsc-DeI"
      },
      "source": [
        ""
      ],
      "execution_count": null,
      "outputs": []
    }
  ]
}